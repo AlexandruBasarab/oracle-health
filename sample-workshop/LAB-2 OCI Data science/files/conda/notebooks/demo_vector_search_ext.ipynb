{
 "cells": [
  {
   "cell_type": "markdown",
   "metadata": {
    "tags": []
   },
   "source": [
    "# Generate regulatory documents for compliance submission with OCI Generative AI\n",
    "##### 1. Connecting to an Opensearch vector store.\n",
    "##### 2. Use Open source pre-trained Hugging face sentence transformer vector encoding model\n",
    "##### 3. Load Clinical Trials Title and description metadta along with its embeddings data to opensearch cluster index\n",
    "##### 4. Search Clinical Trials based on Title and description embeddings and view scores\n"
   ]
  },
  {
   "cell_type": "code",
   "execution_count": 22,
   "metadata": {
    "tags": []
   },
   "outputs": [],
   "source": [
    "# Uncomment to load the neessary pip libaries if required\n",
    "#!pip install opensearch-py \n",
    "#!pip install sentence-transformers\n",
    "#!pip install langchain\n",
    "#!pip install langchain_community\n",
    "#!pip install tabulate"
   ]
  },
  {
   "cell_type": "code",
   "execution_count": 23,
   "metadata": {
    "tags": []
   },
   "outputs": [],
   "source": [
    "import os\n",
    "import warnings\n",
    "warnings.filterwarnings('ignore')\n",
    "import logging\n",
    "logging.basicConfig(format='%(levelname)s:%(message)s', level=logging.ERROR)"
   ]
  },
  {
   "cell_type": "code",
   "execution_count": 24,
   "metadata": {
    "tags": []
   },
   "outputs": [],
   "source": [
    "#Get and set the variables used in the notebook \n",
    "#NOTE: It is recommended you delete host name, user or password after execution of your notebook for the workshop is over.\n",
    "#Usage of the above credentials is for illustration purposes only, not for production workloads\n",
    "os_host='<Opensearch host API Private IP>'\n",
    "os_user='<Opensearch username>' # i,e osmaster\n",
    "os_pass='<Opensearch password>'\n",
    "compartment_id = '<your compartment ocid>'\n",
    "service_endpoint='https://inference.generativeai.us-chicago-1.oci.oraclecloud.com'\n",
    "#print(f'Host: {os_host} user: {os_user} pass: {os_pass}') "
   ]
  },
  {
   "cell_type": "code",
   "execution_count": 58,
   "metadata": {
    "tags": []
   },
   "outputs": [
    {
     "data": {
      "text/plain": [
       "<OpenSearch([{'host': '10.0.3.229', 'port': 9200}])>"
      ]
     },
     "execution_count": 58,
     "metadata": {},
     "output_type": "execute_result"
    }
   ],
   "source": [
    "#connect to OS cluster\n",
    "from opensearchpy import OpenSearch, helpers\n",
    "from opensearchpy.client.http import HttpClient\n",
    "host = [{'host': f'{os_host}', 'port': 9200}]\n",
    "auth = (f'{os_user}', f'{os_pass}')\n",
    "client = OpenSearch(\n",
    "    hosts=host,\n",
    "    http_compress=True,\n",
    "    http_auth=auth,\n",
    "    use_ssl=True,\n",
    "    verify_certs=False\n",
    ")\n",
    "client"
   ]
  },
  {
   "cell_type": "markdown",
   "metadata": {
    "tags": []
   },
   "source": [
    "## Using sentence transformer open source external pre-trained models\n",
    "###### Sentence transformer models are open source hugging face pre-trained models that can be used as an embedding function. You may use any pre-trained models available for the embedding function.\n",
    "###### In this section, the embedding function is applied to pre-create embeddings and then loaded into the opensearch cluster index\n",
    "###### Embeddings are created both on the Title and descriptions of the clinical trials\n",
    "###### Any open source models can be used and retriever scores can be compared\n",
    "###### Refer to [page here](https://opensearch.org/docs/latest/ml-commons-plugin/pretrained-models/) for any additional model names"
   ]
  },
  {
   "cell_type": "code",
   "execution_count": 59,
   "metadata": {
    "tags": []
   },
   "outputs": [],
   "source": [
    "from sentence_transformers import SentenceTransformer\n",
    "model_name = \"all-MiniLM-L6-v2\"\n",
    "\n",
    "model = SentenceTransformer(model_name)\n",
    "EMBEDDING_DIM = model.encode([\"Sample sentence\"])[0].shape[0]\n",
    "#print(EMBEDDING_DIM)"
   ]
  },
  {
   "cell_type": "code",
   "execution_count": 60,
   "metadata": {
    "tags": []
   },
   "outputs": [],
   "source": [
    "#Load all clinical trial metadata (Filename, Tites and descriptions) into a dataframe\n",
    "import pandas as pd\n",
    "file_path = '/home/datascience/conda/data/clinical_trial_titles.csv'\n",
    "columns = ['Filename', 'Title','Description']\n",
    "df_trials = pd.read_csv(file_path, usecols=columns)\n",
    "#len(df_trials)"
   ]
  },
  {
   "cell_type": "code",
   "execution_count": 61,
   "metadata": {
    "tags": []
   },
   "outputs": [],
   "source": [
    "# Define an Opensearch index with embeddings on title and description fields\n",
    "# We view retrieval scores based on titles and description vector embeddings\n",
    "# The embeddings are created in this notebook and stored into this Opensearch index \n",
    "index_name=f'idx-{model_name}'.lower()\n",
    "title_embeddings = model.encode(df_trials[\"Title\"])\n",
    "description_embeddings = model.encode(df_trials[\"Description\"])\n",
    "index_body={\n",
    "  \"settings\": {\n",
    "    \"index\": {\n",
    "      \"knn\": True,\n",
    "      \"knn.algo_param.ef_search\": 100\n",
    "    }\n",
    "  },\n",
    "  \"mappings\": { #how do we store,\n",
    "    \"properties\": {\n",
    "        \"title_embeddings\": {\n",
    "          \"type\": \"knn_vector\", #we are going to put\n",
    "          \"dimension\": EMBEDDING_DIM,\n",
    "          \"method\": {\n",
    "            \"name\": \"hnsw\",\n",
    "            \"space_type\": \"l2\",\n",
    "            \"engine\": \"nmslib\",\n",
    "            \"parameters\": {\n",
    "              \"ef_construction\": 128,\n",
    "              \"m\": 24\n",
    "            }\n",
    "         }\n",
    "     },\n",
    "        \"description_embeddings\": {\n",
    "          \"type\": \"knn_vector\", #we are going to put\n",
    "          \"dimension\": EMBEDDING_DIM,\n",
    "          \"method\": {\n",
    "            \"name\": \"hnsw\",\n",
    "            \"space_type\": \"l2\",\n",
    "            \"engine\": \"nmslib\",\n",
    "            \"parameters\": {\n",
    "              \"ef_construction\": 128,\n",
    "              \"m\": 24\n",
    "            }\n",
    "         }\n",
    "     },\n",
    "         \"Title\": {\n",
    "            \"type\": \"text\"\n",
    "            },\n",
    "         \"Description\": {\n",
    "                \"type\": \"text\"\n",
    "            }\n",
    "        }\n",
    "   }\n",
    "}"
   ]
  },
  {
   "cell_type": "code",
   "execution_count": 62,
   "metadata": {
    "tags": []
   },
   "outputs": [
    {
     "name": "stdout",
     "output_type": "stream",
     "text": [
      "Index deleted successfully\n",
      "Index idx-all-minilm-l6-v2 created successfully\n"
     ]
    }
   ],
   "source": [
    "# Delete and create/re-create the index\n",
    "try:\n",
    "    response=client.indices.delete(index=index_name)\n",
    "    print(\"Index deleted successfully\")\n",
    "except Exception as e:\n",
    "    pass\n",
    "try:\n",
    "    response=client.indices.create(index=index_name, body=index_body)\n",
    "    print(f'Index {index_name} created successfully')\n",
    "except Exception as e:\n",
    "    print(f\"Error creating os settings: {e}\")"
   ]
  },
  {
   "cell_type": "code",
   "execution_count": 63,
   "metadata": {
    "tags": []
   },
   "outputs": [
    {
     "data": {
      "text/plain": [
       "(30, [])"
      ]
     },
     "execution_count": 63,
     "metadata": {},
     "output_type": "execute_result"
    }
   ],
   "source": [
    "# load titles and description data with the embeddings into appropriate model index\n",
    "from opensearchpy import helpers\n",
    "\n",
    "df = pd.DataFrame({\n",
    "    \"Title\": df_trials[\"Title\"].tolist(),\n",
    "    \"Description\": df_trials[\"Description\"].tolist(),\n",
    "    \"title_embeddings\": title_embeddings.tolist(),  # Convert embedding to list for DataFrame,\n",
    "    \"description_embeddings\": description_embeddings.tolist(),  # Convert embedding to list for DataFrame,\n",
    "})\n",
    "\n",
    "docs = df.to_dict(orient=\"records\")\n",
    "\n",
    "helpers.bulk(client, docs, index=index_name, raise_on_error=True, refresh=True)"
   ]
  },
  {
   "cell_type": "markdown",
   "metadata": {
    "tags": []
   },
   "source": [
    "### Run Queries and check retriever results\n",
    "##### In this section, query the Opensearch index based on Title and description embeddings separately\n",
    "##### The user can then choose the best top n retriever results based on the score"
   ]
  },
  {
   "cell_type": "code",
   "execution_count": 64,
   "metadata": {
    "tags": []
   },
   "outputs": [],
   "source": [
    "# Define the user query\n",
    "user_query = \"Find all diabetic clinical trials\"\n",
    "num_titles = 4\n",
    "query_embedding = model.encode((user_query))"
   ]
  },
  {
   "cell_type": "code",
   "execution_count": 65,
   "metadata": {
    "tags": []
   },
   "outputs": [],
   "source": [
    "# Retriever Query results based on vector searches on title embeddings\n",
    "query_body = {\n",
    "    \"query\": {\"knn\": {\"title_embeddings\": {\"vector\": query_embedding, \"k\": f'{num_titles}'}}},\n",
    "    \"_source\": False,\n",
    "    \"fields\": [\"Title\", \"Description\"],\n",
    "}"
   ]
  },
  {
   "cell_type": "code",
   "execution_count": 66,
   "metadata": {
    "tags": []
   },
   "outputs": [
    {
     "name": "stdout",
     "output_type": "stream",
     "text": [
      "+-----------------------------------------------------------------------------------------------+-------+\n",
      "| Title                                                                                         | Score |\n",
      "+-----------------------------------------------------------------------------------------------+-------+\n",
      "| Once-Daily, Dual-Action Diabetes Drug (AG-200) Trial                                          | 0.57  |\n",
      "| A Randomized Controlled Trial of Diet and Drug Intervention for Type 2 Diabetes Management    | 0.52  |\n",
      "| A Phase IV Cardiovascular Outcomes Trial of Diabetes Drug X\": Safety and Efficacy Evaluation\" | 0.48  |\n",
      "| Evaluation of ND-300 for Type 3 Diabetes Management                                           | 0.47  |\n",
      "+-----------------------------------------------------------------------------------------------+-------+\n"
     ]
    }
   ],
   "source": [
    "from tabulate import tabulate\n",
    "results = client.search(\n",
    "    body=query_body,\n",
    "    index=index_name\n",
    ")\n",
    "\n",
    "title_list=[]\n",
    "score_list=[]\n",
    "for i, result in enumerate(results[\"hits\"][\"hits\"]):\n",
    "    Title = result['fields']['Title'][0]\n",
    "    Description = result['fields']['Description'][0]\n",
    "    score = round(result['_score'],2)\n",
    "    title_list.append(Title)\n",
    "    score_list.append(score)\n",
    "    #print(f\"{i+1}. Title: {Title}, Score: {score}\")\n",
    "table = {'Title' : title_list, 'Score' : score_list}\n",
    "print(tabulate(table, headers='keys', tablefmt='pretty', stralign = 'left', numalign = 'center'))"
   ]
  },
  {
   "cell_type": "code",
   "execution_count": 67,
   "metadata": {
    "tags": []
   },
   "outputs": [],
   "source": [
    "# Retriever Query results based on vector searches on description embeddings\n",
    "query_body = {\n",
    "    \"query\": {\"knn\": {\"description_embeddings\": {\"vector\": query_embedding, \"k\": f'{num_titles}'}}},\n",
    "    \"_source\": False,\n",
    "    \"fields\": [\"Title\", \"Description\"],\n",
    "}"
   ]
  },
  {
   "cell_type": "code",
   "execution_count": 68,
   "metadata": {
    "tags": []
   },
   "outputs": [
    {
     "name": "stdout",
     "output_type": "stream",
     "text": [
      "+--------------------------------------------------------------------------------------------+-------+\n",
      "| Title                                                                                      | Score |\n",
      "+--------------------------------------------------------------------------------------------+-------+\n",
      "| A Randomized Controlled Trial of Diet and Drug Intervention for Type 2 Diabetes Management | 0.49  |\n",
      "| Once-Daily, Dual-Action Diabetes Drug (AG-200) Trial                                       | 0.49  |\n",
      "| Evaluation of AGI-101 in Glycemic Control of Type 2 Diabetes                               | 0.48  |\n",
      "| Evaluation of MET-200 for Improving Insulin Sensitivity and Metabolic Control              | 0.48  |\n",
      "+--------------------------------------------------------------------------------------------+-------+\n"
     ]
    }
   ],
   "source": [
    "results = client.search(\n",
    "    body=query_body,\n",
    "    index=index_name\n",
    ")\n",
    "\n",
    "title_list=[]\n",
    "score_list=[]\n",
    "for i, result in enumerate(results[\"hits\"][\"hits\"]):\n",
    "    Title = result['fields']['Title'][0]\n",
    "    Description = result['fields']['Description'][0]\n",
    "    score = round(result['_score'],2)\n",
    "    title_list.append(Title)\n",
    "    score_list.append(score)\n",
    "    #print(f\"{i+1}. Title: {Title}, Score: {score}\")\n",
    "table = {'Title' : title_list, 'Score' : score_list}\n",
    "print(tabulate(table, headers='keys', tablefmt='pretty', stralign = 'left', numalign = 'center'))"
   ]
  },
  {
   "cell_type": "markdown",
   "metadata": {
    "tags": []
   },
   "source": [
    "### Vector embeddings and search with OCI Generative \n",
    "##### In this section, we will create embeddings for Titles and Descriptions with OCI Generative AI Embedding model\n",
    "##### Load the Titles, description and their embeddings into an Opensearch Index"
   ]
  },
  {
   "cell_type": "code",
   "execution_count": 69,
   "metadata": {},
   "outputs": [],
   "source": [
    "#OCI Gen AI Embeddings\n",
    "from langchain_community.embeddings import OCIGenAIEmbeddings\n",
    "from ads.llm import GenerativeAIEmbeddings\n",
    "\n",
    "embed_model_id=\"cohere.embed-english-v3.0\"\n",
    "\n",
    "oci_embeddings = OCIGenAIEmbeddings(\n",
    "    model_id=embed_model_id,\n",
    "    service_endpoint=service_endpoint,\n",
    "    compartment_id=compartment_id,\n",
    "    model_kwargs={\"truncate\":True}\n",
    ")\n",
    "\n",
    "title_embeddings = oci_embeddings.embed_documents(texts=df_trials[\"Title\"].to_list())\n",
    "description_embeddings = oci_embeddings.embed_documents(texts=df_trials[\"Description\"].to_list())\n",
    "EMBEDDING_DIM = len(title_embeddings[0])\n",
    "#print(EMBEDDING_DIM)"
   ]
  },
  {
   "cell_type": "code",
   "execution_count": 70,
   "metadata": {
    "tags": []
   },
   "outputs": [],
   "source": [
    "model_name='cohere.embed-english-v3.0'\n",
    "index_name=f'idx-{model_name}'.lower()\n",
    "index_body={\n",
    "  \"settings\": {\n",
    "    \"index\": {\n",
    "      \"knn\": True,\n",
    "      \"knn.algo_param.ef_search\": 100\n",
    "    }\n",
    "  },\n",
    "  \"mappings\": { #how do we store,\n",
    "    \"properties\": {\n",
    "        \"title_embeddings\": {\n",
    "          \"type\": \"knn_vector\", #we are going to put\n",
    "          \"dimension\": EMBEDDING_DIM,\n",
    "          \"method\": {\n",
    "            \"name\": \"hnsw\",\n",
    "            \"space_type\": \"cosinesimil\",\n",
    "            \"engine\": \"lucene\",\n",
    "            \"parameters\": {\n",
    "              \"ef_construction\": 128,\n",
    "              \"m\": 24\n",
    "            }\n",
    "         }\n",
    "     },\n",
    "        \"description_embeddings\": {\n",
    "          \"type\": \"knn_vector\", #we are going to put\n",
    "          \"dimension\": EMBEDDING_DIM,\n",
    "          \"method\": {\n",
    "            \"name\": \"hnsw\",\n",
    "            \"space_type\": \"cosinesimil\",\n",
    "            \"engine\": \"lucene\",\n",
    "            \"parameters\": {\n",
    "              \"ef_construction\": 128,\n",
    "              \"m\": 24\n",
    "            }\n",
    "         }\n",
    "     },\n",
    "         \"Title\": {\n",
    "            \"type\": \"text\"\n",
    "            },\n",
    "         \"Description\": {\n",
    "                \"type\": \"text\"\n",
    "            }\n",
    "        }\n",
    "   }\n",
    "}"
   ]
  },
  {
   "cell_type": "code",
   "execution_count": 71,
   "metadata": {
    "tags": []
   },
   "outputs": [
    {
     "name": "stdout",
     "output_type": "stream",
     "text": [
      "Index deleted successfully\n",
      "Index idx-cohere.embed-english-v3.0 created successfully\n"
     ]
    }
   ],
   "source": [
    "# Delete and create/re-create the index\n",
    "try:\n",
    "    response=client.indices.delete(index=index_name)\n",
    "    print(\"Index deleted successfully\")\n",
    "except Exception as e:\n",
    "    pass\n",
    "try:\n",
    "    response=client.indices.create(index=index_name, body=index_body)\n",
    "    print(f'Index {index_name} created successfully')\n",
    "except Exception as e:\n",
    "    print(f\"Error creating os settings: {e}\")"
   ]
  },
  {
   "cell_type": "code",
   "execution_count": 72,
   "metadata": {
    "tags": []
   },
   "outputs": [
    {
     "data": {
      "text/plain": [
       "(30, [])"
      ]
     },
     "execution_count": 72,
     "metadata": {},
     "output_type": "execute_result"
    }
   ],
   "source": [
    "# load titles and description data into appropriate model index\n",
    "from opensearchpy import helpers\n",
    "\n",
    "df = pd.DataFrame({\n",
    "    \"Title\": df_trials[\"Title\"].tolist(),\n",
    "    \"Description\": df_trials[\"Description\"].tolist(),\n",
    "    \"title_embeddings\": title_embeddings,  # Convert embedding to list for DataFrame,\n",
    "    \"description_embeddings\": description_embeddings,  # Convert embedding to list for DataFrame,\n",
    "})\n",
    "\n",
    "docs = df.to_dict(orient=\"records\")\n",
    "\n",
    "helpers.bulk(client, docs, index=index_name, raise_on_error=True, refresh=True)"
   ]
  },
  {
   "cell_type": "markdown",
   "metadata": {
    "tags": []
   },
   "source": [
    "### Run Queries and check retriever results\n",
    "##### In this section, query the Opensearch index based on Title and description embeddings separately\n",
    "##### The user can then choose the best top n retriever results based on the score"
   ]
  },
  {
   "cell_type": "code",
   "execution_count": 73,
   "metadata": {
    "tags": []
   },
   "outputs": [],
   "source": [
    "# Set the query embedding to \n",
    "user_query = \"Find all liver transplantation trials\"\n",
    "num_titles = 4\n",
    "query_embedding = oci_embeddings.embed_query(text=user_query)"
   ]
  },
  {
   "cell_type": "code",
   "execution_count": 74,
   "metadata": {
    "tags": []
   },
   "outputs": [],
   "source": [
    "# Retriever Query results based on vector searches on title embeddings\n",
    "query_body = {\n",
    "    \"query\": {\"knn\": {\"title_embeddings\": {\"vector\": query_embedding, \"k\": f'{num_titles}'}}},\n",
    "    \"_source\": False,\n",
    "    \"fields\": [\"Title\", \"Description\"],\n",
    "}"
   ]
  },
  {
   "cell_type": "code",
   "execution_count": 75,
   "metadata": {
    "tags": []
   },
   "outputs": [
    {
     "name": "stdout",
     "output_type": "stream",
     "text": [
      "+-----------------------------------------------------------------------------------------------------+-------+\n",
      "| Title                                                                                               | Score |\n",
      "+-----------------------------------------------------------------------------------------------------+-------+\n",
      "| A Prospective, Single-Arm Trial of an Innovative Liver Transplantation Technique                    | 0.81  |\n",
      "| A Randomized, Double-Blind, Placebo-Controlled Trial of 'Cirrinol' for Liver Cirrhosis Treatment    | 0.81  |\n",
      "| A Randomized, Open-Label Trial of Stem Cell Therapy for Acute Liver Failure                         | 0.79  |\n",
      "| A Phase 3 Randomized Clinical Trial of an Investigational Drug for Newly Diagnosed Multiple Myeloma | 0.78  |\n",
      "+-----------------------------------------------------------------------------------------------------+-------+\n"
     ]
    }
   ],
   "source": [
    "results = client.search(\n",
    "    body=query_body,\n",
    "    index=index_name\n",
    ")\n",
    "\n",
    "title_list=[]\n",
    "score_list=[]\n",
    "for i, result in enumerate(results[\"hits\"][\"hits\"]):\n",
    "    Title = result['fields']['Title'][0]\n",
    "    Description = result['fields']['Description'][0]\n",
    "    score = round(result['_score'],2)\n",
    "    title_list.append(Title)\n",
    "    score_list.append(score)\n",
    "    #print(f\"{i+1}. Title: {Title}, Score: {score}\")\n",
    "\n",
    "table = {'Title' : title_list, 'Score' : score_list}\n",
    "print(tabulate(table, headers='keys', tablefmt='pretty', stralign = 'left', numalign = 'center'))"
   ]
  },
  {
   "cell_type": "code",
   "execution_count": 76,
   "metadata": {
    "tags": []
   },
   "outputs": [],
   "source": [
    "# Retriever Query results based on vector searches on description embeddings\n",
    "query_body = {\n",
    "    \"query\": {\"knn\": {\"description_embeddings\": {\"vector\": query_embedding, \"k\": f'{num_titles}'}}},\n",
    "    \"_source\": False,\n",
    "    \"fields\": [\"Title\", \"Description\"],\n",
    "}"
   ]
  },
  {
   "cell_type": "code",
   "execution_count": 77,
   "metadata": {
    "tags": []
   },
   "outputs": [
    {
     "name": "stdout",
     "output_type": "stream",
     "text": [
      "+-------------------------------------------------------------------------------------------------------------------------+-------+\n",
      "| Title                                                                                                                   | Score |\n",
      "+-------------------------------------------------------------------------------------------------------------------------+-------+\n",
      "| A Prospective, Single-Arm Trial of an Innovative Liver Transplantation Technique                                        | 0.81  |\n",
      "| A Randomized, Double-Blind, Placebo-Controlled Trial of the Effects of Drug 'M' on Non-Alcoholic Steatohepatitis (NASH) | 0.76  |\n",
      "| A Randomized, Double-Blind, Placebo-Controlled Trial of 'Cirrinol' for Liver Cirrhosis Treatment                        | 0.75  |\n",
      "| A Randomized, Controlled Trial of Lifestyle Intervention and Drug 'N' in Non-Alcoholic Fatty Liver Disease (NAFLD)      | 0.74  |\n",
      "+-------------------------------------------------------------------------------------------------------------------------+-------+\n"
     ]
    }
   ],
   "source": [
    "results = client.search(\n",
    "    body=query_body,\n",
    "    index=index_name\n",
    ")\n",
    "\n",
    "title_list=[]\n",
    "score_list=[]\n",
    "for i, result in enumerate(results[\"hits\"][\"hits\"]):\n",
    "    Title = result['fields']['Title'][0]\n",
    "    Description = result['fields']['Description'][0]\n",
    "    score = round(result['_score'],2)\n",
    "    title_list.append(Title)\n",
    "    score_list.append(score)\n",
    "    #print(f\"{i+1}. Title: {Title}, Score: {score}\")\n",
    "    \n",
    "table_2 = {'Title' : title_list, 'Score' : score_list}\n",
    "print(tabulate(table_2, headers='keys', tablefmt='pretty', stralign = 'left', numalign = 'center'))"
   ]
  },
  {
   "cell_type": "markdown",
   "metadata": {},
   "source": [
    "#### TAKEWAY NOTES: \n",
    "##### 1. You can use this notebook to compare retriever results from different models on the same Title and Description metadata \n",
    "##### 2. You can create retrieval scores by loading any other detail text columns into an index"
   ]
  },
  {
   "cell_type": "code",
   "execution_count": null,
   "metadata": {},
   "outputs": [],
   "source": []
  }
 ],
 "metadata": {
  "kernelspec": {
   "display_name": "Python [conda env:pytorch21_p39_gpu_v1]",
   "language": "python",
   "name": "conda-env-pytorch21_p39_gpu_v1-py"
  },
  "language_info": {
   "codemirror_mode": {
    "name": "ipython",
    "version": 3
   },
   "file_extension": ".py",
   "mimetype": "text/x-python",
   "name": "python",
   "nbconvert_exporter": "python",
   "pygments_lexer": "ipython3",
   "version": "3.9.16"
  },
  "vscode": {
   "interpreter": {
    "hash": "06b89612a5e9c675d881f7c391886fce9eabd2126328a7f9c136f634c360fd8c"
   }
  }
 },
 "nbformat": 4,
 "nbformat_minor": 4
}
