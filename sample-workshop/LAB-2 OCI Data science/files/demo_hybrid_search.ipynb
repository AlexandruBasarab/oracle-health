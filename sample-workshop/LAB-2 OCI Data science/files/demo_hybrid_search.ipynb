{
 "cells": [
  {
   "cell_type": "markdown",
   "metadata": {
    "tags": []
   },
   "source": [
    "# Generate regulatory documents for compliance submission with OCI Generative AI\n",
    "### Hybrid search illustration"
   ]
  },
  {
   "cell_type": "markdown",
   "metadata": {},
   "source": [
    "Hybrid search uses a combination of lexical search and neural search in opensearch.This requires defining a search pipeline with weights corresponding to various techniques.Hybrid search illustration is developed with hugging face sentence transformer model on OCI Opensearch. However note, that the associated indexes, pipelines, models and model groups are built externally with the Opensearch devtools interface"
   ]
  },
  {
   "cell_type": "code",
   "execution_count": 1,
   "metadata": {
    "tags": []
   },
   "outputs": [],
   "source": [
    "# Uncomment to load the neessary pip libaries if required\n",
    "#!pip install opensearch-py \n",
    "#!pip install sentence-transformers\n",
    "#!pip install langchain\n",
    "#!pip install langchain_community"
   ]
  },
  {
   "cell_type": "code",
   "execution_count": 2,
   "metadata": {
    "tags": []
   },
   "outputs": [],
   "source": [
    "import os\n",
    "import warnings\n",
    "warnings.filterwarnings('ignore')\n",
    "import logging\n",
    "logging.basicConfig(format='%(levelname)s:%(message)s', level=logging.ERROR)"
   ]
  },
  {
   "cell_type": "code",
   "execution_count": 3,
   "metadata": {
    "tags": []
   },
   "outputs": [
    {
     "data": {
      "text/plain": [
       "<OpenSearch([{'host': '10.0.3.229', 'port': 9200}])>"
      ]
     },
     "execution_count": 3,
     "metadata": {},
     "output_type": "execute_result"
    }
   ],
   "source": [
    "#connect to OS cluster\n",
    "from opensearchpy import OpenSearch, helpers\n",
    "from opensearchpy.client.http import HttpClient\n",
    "host = [{'host': '10.0.3.229', 'port': 9200}]\n",
    "auth = ('osmaster', 'Welcome#1234!')\n",
    "client = OpenSearch(\n",
    "    hosts=host,\n",
    "    http_compress=True,\n",
    "    http_auth=auth,\n",
    "    use_ssl=True,\n",
    "    verify_certs=False\n",
    ")\n",
    "client"
   ]
  },
  {
   "cell_type": "markdown",
   "metadata": {
    "tags": []
   },
   "source": [
    "### Opensearch registered model embeddings to load Clinical data\n",
    "##### To use Opensearch Neural search or hybrid search, the model needs to be registered in Opensearch or connected with a connector for remote API enabled models\n",
    "##### Hugging face pre-trained sentence transformer model idx-msmarco-distilbert-base-tas-b (768 dimensions) is used in this case.  \n",
    "##### Since model load and deployment involves asynchronous tasks in Opensearch, the model registration is created with Open search dev tools (for easier coding)\n",
    "##### The model name and the model_ids retrieved are then hardcoded for creating the opensearch index pipeline below"
   ]
  },
  {
   "cell_type": "code",
   "execution_count": 158,
   "metadata": {
    "tags": []
   },
   "outputs": [],
   "source": [
    "model_name='msmarco-distilbert-base-tas-b'\n",
    "model_id='1wvDKZEBWEIPcnamv7eS'"
   ]
  },
  {
   "cell_type": "code",
   "execution_count": 159,
   "metadata": {
    "tags": []
   },
   "outputs": [],
   "source": [
    "ingest_pl=f'pl-{model_name}'\n",
    "ingest_pl_body={\n",
    "  \"description\": \"Pipeline to ingest clinical trials data for model msmarco-distilbert-base-tas-b\",\n",
    "  \"processors\" : [\n",
    "    {\n",
    "      \"text_embedding\": {\n",
    "        \"model_id\": f\"{model_id}\",\n",
    "        \"field_map\": {\n",
    "           \"Title\": \"title_embeddings\",\n",
    "           \"Description\": \"description_embeddings\"\n",
    "        }\n",
    "      }\n",
    "    }\n",
    "  ]\n",
    "}"
   ]
  },
  {
   "cell_type": "code",
   "execution_count": 160,
   "metadata": {
    "tags": []
   },
   "outputs": [
    {
     "name": "stdout",
     "output_type": "stream",
     "text": [
      "Pipeline pl-msmarco-distilbert-base-tas-b deleted successfully\n",
      "Index pl-msmarco-distilbert-base-tas-b created successfully\n"
     ]
    }
   ],
   "source": [
    "# Delete and create/re-create the pipeline\n",
    "try:\n",
    "    response=client.ingest.delete_pipeline(id=ingest_pl)\n",
    "    print(f\"Pipeline {pipeline_name} deleted successfully\")\n",
    "except Exception as e:\n",
    "    pass\n",
    "try:\n",
    "    response=client.ingest.put_pipeline(id=ingest_pl, body=ingest_pl_body)\n",
    "    print(f'Index {pipeline_name} created successfully')\n",
    "except Exception as e:\n",
    "    print(f\"Error creating os settings: {e}\")"
   ]
  },
  {
   "cell_type": "code",
   "execution_count": 161,
   "metadata": {
    "tags": []
   },
   "outputs": [],
   "source": [
    "#Create the index with msmarco-distilbert-base-tas-b\n",
    "index_name=f'idx-{model_name}'\n",
    "index_body= {\n",
    "    \"settings\": {\n",
    "        \"index.knn\": True,\n",
    "        \"default_pipeline\": f\"{pipeline_name}\"\n",
    "    },\n",
    "    \"mappings\": {\n",
    "        \"properties\": {\n",
    "            \"title_embeddings\": {\n",
    "                \"type\": \"knn_vector\",\n",
    "                \"dimension\": 768,\n",
    "                \"method\": {\n",
    "                    \"name\":\"hnsw\",\n",
    "                    \"engine\":\"lucene\",\n",
    "                    \"space_type\": \"l2\",\n",
    "                    \"parameters\":{\n",
    "                        \"m\":512,\n",
    "                        \"ef_construction\": 245\n",
    "                    }\n",
    "                }\n",
    "            },\n",
    "            \"description_embeddings\": {\n",
    "                \"type\": \"knn_vector\",\n",
    "                \"dimension\": 768,\n",
    "                \"method\": {\n",
    "                    \"name\":\"hnsw\",\n",
    "                    \"engine\":\"lucene\",\n",
    "                    \"space_type\": \"l2\",\n",
    "                    \"parameters\":{\n",
    "                        \"m\":512,\n",
    "                        \"ef_construction\": 245\n",
    "                    }\n",
    "                }\n",
    "            },\n",
    "            \"Title\": {\n",
    "                \"type\": \"text\"\n",
    "            },\n",
    "            \"Description\": {\n",
    "                \"type\": \"text\"\n",
    "            }\n",
    "        }\n",
    "    }\n",
    "}"
   ]
  },
  {
   "cell_type": "code",
   "execution_count": 162,
   "metadata": {
    "tags": []
   },
   "outputs": [
    {
     "name": "stdout",
     "output_type": "stream",
     "text": [
      "Index idx-msmarco-distilbert-base-tas-b deleted successfully\n",
      "Index idx-msmarco-distilbert-base-tas-b created successfully\n"
     ]
    }
   ],
   "source": [
    "# Delete and create/re-create the index\n",
    "try:\n",
    "    response=client.indices.delete(index=index_name)\n",
    "    print(f\"Index {index_name} deleted successfully\")\n",
    "except Exception as e:\n",
    "    pass\n",
    "try:\n",
    "    response=client.indices.create(index=index_name, body=index_body)\n",
    "    print(f'Index {index_name} created successfully')\n",
    "except Exception as e:\n",
    "    print(f\"Error creating os settings: {e}\")"
   ]
  },
  {
   "cell_type": "code",
   "execution_count": 163,
   "metadata": {
    "tags": []
   },
   "outputs": [],
   "source": [
    "#Load clinical trial metadata (Filename, Tites and descriptions) into a dataframe\n",
    "import pandas as pd\n",
    "file_path = '/home/datascience/conda/data/clinical_trial_titles.csv'\n",
    "columns = ['Filename', 'Title','Description']\n",
    "df_trials = pd.read_csv(file_path, usecols=columns)\n",
    "#len(df_trials)"
   ]
  },
  {
   "cell_type": "code",
   "execution_count": 164,
   "metadata": {
    "tags": []
   },
   "outputs": [
    {
     "data": {
      "text/plain": [
       "(30, [])"
      ]
     },
     "execution_count": 164,
     "metadata": {},
     "output_type": "execute_result"
    }
   ],
   "source": [
    "# load titles and description data into appropriate model index\n",
    "from opensearchpy import helpers\n",
    "df = pd.DataFrame({\n",
    "    \"Title\": df_trials[\"Title\"].tolist(),\n",
    "    \"Description\": df_trials[\"Description\"].tolist()\n",
    "})\n",
    "\n",
    "docs = df.to_dict(orient=\"records\")\n",
    "\n",
    "helpers.bulk(client, docs, index=index_name, raise_on_error=True, refresh=True)"
   ]
  },
  {
   "cell_type": "markdown",
   "metadata": {
    "tags": []
   },
   "source": [
    "#### Develop the hybrid search pipeline and search query\n",
    "##### Since hybrid search is not available in the above OS client interface, http client interface is used"
   ]
  },
  {
   "cell_type": "code",
   "execution_count": 165,
   "metadata": {},
   "outputs": [],
   "source": [
    "#Create OS objects with HttpClient (search pipelines for hybrid search not supported)\n",
    "from opensearchpy import RequestsHttpConnection\n",
    "from opensearchpy.client.http import HttpClient\n",
    "import json, requests\n",
    "\n",
    "# Define a custom HTTP client by extending the HttpClient class\n",
    "class CustomHttpClient(HttpClient):\n",
    "    def perform_request(self, method, url, params=None, body=None, headers=None):\n",
    "        print(f\"Performing {method} request to {url}\")\n",
    "        if body is not None:\n",
    "            body = json.dumps(body)\n",
    "        response = super().perform_request(method, url, params=params, body=body, headers=headers)\n",
    "        return response\n",
    "\n",
    "    # Function to pretty-print JSON responses\n",
    "def print_response(response):\n",
    "    response_body = response[1].decode('utf-8')\n",
    "    print(json.dumps(json.loads(response_body), indent=2))"
   ]
  },
  {
   "cell_type": "code",
   "execution_count": 166,
   "metadata": {
    "tags": []
   },
   "outputs": [],
   "source": [
    "# Define the OpenSearch client using the custom HTTP client\n",
    "client = OpenSearch(\n",
    "    hosts=[{'host': '10.0.3.229', 'port': 9200}],\n",
    "    http_auth=('osmaster', 'Welcome#1234!'),  # Replace with your username and password\n",
    "    use_ssl = True,\n",
    "    verify_certs = False,\n",
    "    ssl_show_warn = False,\n",
    "    connection_class=RequestsHttpConnection,\n",
    "    http_compress=True,\n",
    "    client_class=CustomHttpClient\n",
    ")"
   ]
  },
  {
   "cell_type": "code",
   "execution_count": 167,
   "metadata": {
    "tags": []
   },
   "outputs": [],
   "source": [
    "# Perform a basic GET request to check the cluster health\n",
    "response = client.transport.perform_request('GET', '/_cluster/health')\n",
    "#response"
   ]
  },
  {
   "cell_type": "code",
   "execution_count": 168,
   "metadata": {
    "tags": []
   },
   "outputs": [],
   "source": [
    "# Define the hybrid search pipeline \n",
    "srch_pl_name='hybrid-search-pipeline'\n",
    "srch_pl_body={\n",
    "  \"description\": \"Post processor for hybrid search\",\n",
    "  \"phase_results_processors\": [\n",
    "    {\n",
    "      \"normalization-processor\": {\n",
    "        \"normalization\": {\n",
    "          \"technique\": \"min_max\"\n",
    "        },\n",
    "        \"combination\": {\n",
    "          \"technique\": \"arithmetic_mean\",\n",
    "          \"parameters\": {\n",
    "            \"weights\": [\n",
    "              0.3,\n",
    "              0.7\n",
    "            ]\n",
    "          }\n",
    "        }\n",
    "      }\n",
    "    }\n",
    "  ]\n",
    "}"
   ]
  },
  {
   "cell_type": "code",
   "execution_count": 169,
   "metadata": {
    "tags": []
   },
   "outputs": [
    {
     "name": "stdout",
     "output_type": "stream",
     "text": [
      "Search Pipeline hybrid-search-pipeline deleted successfully\n",
      "Search Pipeline hybrid-search-pipeline created successfully\n"
     ]
    }
   ],
   "source": [
    "#Create the hybrid search pipeline\n",
    "try:\n",
    "    response=client.transport.perform_request('DELETE',f'/_search/pipeline/{srch_pl_name}')\n",
    "    print(f'Search Pipeline {srch_pl_name} deleted successfully')\n",
    "except Exception as e:\n",
    "    pass\n",
    "try:                                          \n",
    "    response = client.transport.perform_request('PUT',f'/_search/pipeline/{srch_pl_name}',body=srch_pl_body)\n",
    "    print(f'Search Pipeline {srch_pl_name} created successfully')\n",
    "except Exception as e:\n",
    "    print(f\"Error creating pipeline: {e}\")                                              "
   ]
  },
  {
   "cell_type": "code",
   "execution_count": 170,
   "metadata": {
    "tags": []
   },
   "outputs": [],
   "source": [
    "#User query for hybrid indexed search using the hybrid search pipeline\n",
    "user_query = \"Find all liver transplantation trials\"\n",
    "num_titles = 4\n",
    "#model_id='1wvDKZEBWEIPcnamv7eS'"
   ]
  },
  {
   "cell_type": "code",
   "execution_count": 171,
   "metadata": {},
   "outputs": [],
   "source": [
    "#Query body using the above hybrid search pipeline based on Description column\n",
    "query_body={\n",
    "  \"_source\": {\n",
    "    \"excludes\": [\n",
    "      \"title_embeddings\",\"description_embeddings\"\n",
    "    ]\n",
    "  },\n",
    "  \"query\": {\n",
    "    \"hybrid\": {\n",
    "      \"queries\": [\n",
    "        {\n",
    "          \"match\": {\n",
    "            \"Description\": {\n",
    "              \"query\": f'{user_query}'\n",
    "            }\n",
    "          }\n",
    "        },\n",
    "        {\n",
    "          \"neural\": {\n",
    "            \"description_embeddings\": {\n",
    "              \"query_text\": f'{user_query}',\n",
    "              \"model_id\": f'{model_id}',\n",
    "              \"k\": f'{num_titles}'\n",
    "            }\n",
    "          }\n",
    "        }\n",
    "      ]\n",
    "    }\n",
    "  }\n",
    "}"
   ]
  },
  {
   "cell_type": "code",
   "execution_count": 172,
   "metadata": {
    "tags": []
   },
   "outputs": [],
   "source": [
    "results = client.search(\n",
    "    body=query_body,\n",
    "    index=index_name,\n",
    "    search_pipeline=pl_name\n",
    ")\n",
    "#results['hits']['hits'][0]['_source']['Title']"
   ]
  },
  {
   "cell_type": "code",
   "execution_count": 173,
   "metadata": {
    "tags": []
   },
   "outputs": [
    {
     "name": "stdout",
     "output_type": "stream",
     "text": [
      "1. Title: A Prospective, Single-Arm Trial of an Innovative Liver Transplantation Technique, Score: 1.0\n",
      "2. Title: A Randomized, Double-Blind, Placebo-Controlled Trial of 'Cirrinol' for Liver Cirrhosis Treatment, Score: 0.1641508\n",
      "3. Title: Phase 2 Clinical Trial of an Investigational CAR T-Cell Therapy for Relapsed or Refractory B-Cell Acute Lymphoblastic Leukemia (B-ALL), Score: 0.10026089\n",
      "4. Title: A Phase 3 Randomized Clinical Trial of an Investigational Drug for Newly Diagnosed Multiple Myeloma, Score: 0.097346365\n"
     ]
    }
   ],
   "source": [
    "#num_records=len(results['hits']['hits'])\n",
    "for i in range(0,num_titles):\n",
    "    Title=results['hits']['hits'][i]['_source']['Title']\n",
    "    Description=results['hits']['hits'][i]['_source']['Description']\n",
    "    score = results['hits']['hits'][i]['_score']\n",
    "    print(f\"{i+1}. Title: {Title}, Score: {score}\")"
   ]
  },
  {
   "cell_type": "code",
   "execution_count": 174,
   "metadata": {},
   "outputs": [],
   "source": [
    "#Query body using the above hybrid search pipeline based on Title column\n",
    "query_body={\n",
    "  \"_source\": {\n",
    "    \"excludes\": [\n",
    "      \"title_embeddings\",\"description_embeddings\"\n",
    "    ]\n",
    "  },\n",
    "  \"query\": {\n",
    "    \"hybrid\": {\n",
    "      \"queries\": [\n",
    "        {\n",
    "          \"match\": {\n",
    "            \"Title\": {\n",
    "              \"query\": f'{user_query}'\n",
    "            }\n",
    "          }\n",
    "        },\n",
    "        {\n",
    "          \"neural\": {\n",
    "            \"title_embeddings\": {\n",
    "              \"query_text\": f'{user_query}',\n",
    "              \"model_id\": f'{model_id}',\n",
    "              \"k\": f'{num_titles}'\n",
    "            }\n",
    "          }\n",
    "        }\n",
    "      ]\n",
    "    }\n",
    "  }\n",
    "}"
   ]
  },
  {
   "cell_type": "code",
   "execution_count": 175,
   "metadata": {
    "tags": []
   },
   "outputs": [],
   "source": [
    "results = client.search(\n",
    "    body=query_body,\n",
    "    index=index_name,\n",
    "    search_pipeline=pl_name\n",
    ")"
   ]
  },
  {
   "cell_type": "code",
   "execution_count": 176,
   "metadata": {
    "tags": []
   },
   "outputs": [
    {
     "name": "stdout",
     "output_type": "stream",
     "text": [
      "1. Title: A Prospective, Single-Arm Trial of an Innovative Liver Transplantation Technique, Score: 1.0\n",
      "2. Title: A Randomized, Open-Label Trial of Stem Cell Therapy for Acute Liver Failure, Score: 0.35522744\n",
      "3. Title: A Randomized, Double-Blind, Placebo-Controlled Trial of 'Cirrinol' for Liver Cirrhosis Treatment, Score: 0.12978652\n",
      "4. Title: Phase 2 Clinical Trial of an Investigational CAR T-Cell Therapy for Relapsed or Refractory B-Cell Acute Lymphoblastic Leukemia (B-ALL), Score: 0.05730572\n"
     ]
    }
   ],
   "source": [
    "for i in range(0,num_titles):\n",
    "    Title=results['hits']['hits'][i]['_source']['Title']\n",
    "    Description=results['hits']['hits'][i]['_source']['Description']\n",
    "    score = results['hits']['hits'][i]['_score']\n",
    "    print(f\"{i+1}. Title: {Title}, Score: {score}\")"
   ]
  },
  {
   "cell_type": "code",
   "execution_count": null,
   "metadata": {},
   "outputs": [],
   "source": []
  }
 ],
 "metadata": {
  "kernelspec": {
   "display_name": "Python [conda env:pytorch21_p39_gpu_v1]",
   "language": "python",
   "name": "conda-env-pytorch21_p39_gpu_v1-py"
  },
  "language_info": {
   "codemirror_mode": {
    "name": "ipython",
    "version": 3
   },
   "file_extension": ".py",
   "mimetype": "text/x-python",
   "name": "python",
   "nbconvert_exporter": "python",
   "pygments_lexer": "ipython3",
   "version": "3.9.16"
  },
  "vscode": {
   "interpreter": {
    "hash": "06b89612a5e9c675d881f7c391886fce9eabd2126328a7f9c136f634c360fd8c"
   }
  }
 },
 "nbformat": 4,
 "nbformat_minor": 4
}
