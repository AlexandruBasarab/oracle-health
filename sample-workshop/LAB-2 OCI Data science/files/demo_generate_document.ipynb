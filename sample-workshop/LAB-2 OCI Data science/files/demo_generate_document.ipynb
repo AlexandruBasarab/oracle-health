{
 "cells": [
  {
   "cell_type": "markdown",
   "metadata": {
    "tags": []
   },
   "source": [
    "# Generate regulatory documents for compliance submission with OCI Generative AI\n",
    "### This notebook demonstrates\n",
    "##### 1. Loading all the clinical trials data, creating embeddings on the content and metadata fields and loading into an Opensearch Index\n",
    "##### 2. Use OCI Generative AI Embedding function to perform the embeddings\n",
    "##### 3. Perform a vector search on the page content based on the best Title received from retriever interface\n",
    "##### 4. Use expert prompting techniques to instruct OCI Generative AI LLM to summarize document sectionally\n",
    "##### 5. Use langchain output parser to extract summarized output for various sections\n",
    "##### 6. Use a pre-determined form template to fill in langchain outputs and create a compliance submission form\n"
   ]
  },
  {
   "cell_type": "code",
   "execution_count": 1,
   "metadata": {
    "tags": []
   },
   "outputs": [],
   "source": [
    "# Uncomment to load the neessary pip libaries if required\n",
    "#!pip install opensearch-py \n",
    "#!pip install sentence-transformers\n",
    "#!pip install langchain\n",
    "#!pip install langchain_community\n",
    "#!pip install pypdf\n",
    "#!pip3 install fillpdf"
   ]
  },
  {
   "cell_type": "code",
   "execution_count": 2,
   "metadata": {
    "tags": []
   },
   "outputs": [],
   "source": [
    "import os\n",
    "import pandas as pd\n",
    "import json\n",
    "from langchain_community.vectorstores import OpenSearchVectorSearch\n",
    "from langchain_community.document_loaders import PyPDFDirectoryLoader\n",
    "from langchain.text_splitter import RecursiveCharacterTextSplitter"
   ]
  },
  {
   "cell_type": "code",
   "execution_count": 3,
   "metadata": {
    "tags": []
   },
   "outputs": [],
   "source": [
    "# Read all PDF clinical trial data and load it into data\n",
    "directory_path = \"/home/datascience/conda/data/pdfs/\"\n",
    "loader = PyPDFDirectoryLoader(directory_path)\n",
    "data = loader.load()\n",
    "#data"
   ]
  },
  {
   "cell_type": "code",
   "execution_count": 4,
   "metadata": {
    "tags": []
   },
   "outputs": [],
   "source": [
    "from tabulate import tabulate\n",
    "df_trials=pd.DataFrame(data,columns=['page_content','metadata','page'])\n",
    "for i in range(0,len(data)):\n",
    "    df_trials.page_content[i]=data[i].page_content\n",
    "    df_trials.metadata[i]=data[i].metadata['source']\n",
    "    df_trials.page[i]=data[i].metadata['page']\n",
    "#df_trials"
   ]
  },
  {
   "cell_type": "markdown",
   "metadata": {},
   "source": [
    "#### Generate OCI embeddings model and generate embeddings"
   ]
  },
  {
   "cell_type": "code",
   "execution_count": 5,
   "metadata": {
    "tags": []
   },
   "outputs": [],
   "source": [
    "#OCI Gen AI Embeddings\n",
    "from langchain_community.embeddings import OCIGenAIEmbeddings\n",
    "\n",
    "compartment_id = \"ocid1.compartment.oc1..aaaaaaaa452ndb7pt7ygkd2l75ws5k6sxihp2f5xq5m3d6v4lb6lgzj2jniq\"\n",
    "service_endpoint='https://inference.generativeai.us-chicago-1.oci.oraclecloud.com'\n",
    "model_id = \"cohere.command\"\n",
    "embed_model_id=\"cohere.embed-english-v3.0\"\n",
    "\n",
    "oci_embeddings = OCIGenAIEmbeddings(\n",
    "    model_id=embed_model_id,\n",
    "    service_endpoint=service_endpoint,\n",
    "    compartment_id=compartment_id,\n",
    "    model_kwargs={\"truncate\":True}\n",
    ")"
   ]
  },
  {
   "cell_type": "code",
   "execution_count": 6,
   "metadata": {
    "tags": []
   },
   "outputs": [],
   "source": [
    "#Create the OCI Gen AI Embeddings for the page_content and file metadata\n",
    "pg_embeddings = oci_embeddings.embed_documents(texts=df_trials[\"page_content\"].to_list())\n",
    "mt_embeddings = oci_embeddings.embed_documents(texts=df_trials[\"metadata\"].to_list())\n",
    "EMBEDDING_DIM = len(pg_embeddings[0])\n",
    "#print(EMBEDDING_DIM)"
   ]
  },
  {
   "cell_type": "markdown",
   "metadata": {
    "tags": []
   },
   "source": [
    "#### Connect and load all documents and file metadata into an opensearch index"
   ]
  },
  {
   "cell_type": "code",
   "execution_count": 7,
   "metadata": {
    "tags": []
   },
   "outputs": [],
   "source": [
    "import os\n",
    "import warnings\n",
    "warnings.filterwarnings('ignore')\n",
    "import logging\n",
    "logging.basicConfig(format='%(levelname)s:%(message)s', level=logging.ERROR)"
   ]
  },
  {
   "cell_type": "code",
   "execution_count": 8,
   "metadata": {
    "tags": []
   },
   "outputs": [
    {
     "data": {
      "text/plain": [
       "<OpenSearch([{'host': '10.0.3.229', 'port': 9200}])>"
      ]
     },
     "execution_count": 8,
     "metadata": {},
     "output_type": "execute_result"
    }
   ],
   "source": [
    "#connect to OS cluster\n",
    "from opensearchpy import OpenSearch, helpers\n",
    "from opensearchpy.client.http import HttpClient\n",
    "host = [{'host': '10.0.3.229', 'port': 9200}]\n",
    "auth = ('osmaster', 'Welcome#1234!')\n",
    "client = OpenSearch(\n",
    "    hosts=host,\n",
    "    http_compress=True,\n",
    "    http_auth=auth,\n",
    "    use_ssl=True,\n",
    "    verify_certs=False\n",
    ")\n",
    "client"
   ]
  },
  {
   "cell_type": "code",
   "execution_count": 9,
   "metadata": {},
   "outputs": [],
   "source": [
    "#Create the document index\n",
    "index_name='idx_oci_genai_clinical_trials'\n",
    "index_body={\n",
    "  \"settings\": {\n",
    "    \"index\": {\n",
    "      \"knn\": True,\n",
    "      \"knn.algo_param.ef_search\": 100\n",
    "    }\n",
    "  },\n",
    "  \"mappings\": { #how do we store,\n",
    "    \"properties\": {\n",
    "        \"pg_embeddings\": {\n",
    "          \"type\": \"knn_vector\", #we are going to put\n",
    "          \"dimension\": EMBEDDING_DIM,\n",
    "          \"method\": {\n",
    "            \"name\": \"hnsw\",\n",
    "            \"space_type\": \"cosinesimil\",\n",
    "            \"engine\": \"lucene\",\n",
    "            \"parameters\": {\n",
    "              \"ef_construction\": 128,\n",
    "              \"m\": 24\n",
    "            }\n",
    "         }\n",
    "     },\n",
    "     \"mt_embeddings\": {\n",
    "          \"type\": \"knn_vector\", #we are going to put\n",
    "          \"dimension\": EMBEDDING_DIM,\n",
    "          \"method\": {\n",
    "            \"name\": \"hnsw\",\n",
    "            \"space_type\": \"cosinesimil\",\n",
    "            \"engine\": \"lucene\",\n",
    "            \"parameters\": {\n",
    "              \"ef_construction\": 128,\n",
    "              \"m\": 24\n",
    "            }\n",
    "         }\n",
    "     },\"page_content\": {\n",
    "        \"type\": \"text\"\n",
    "        },\n",
    "     \"metadata\": {\n",
    "            \"type\": \"text\"\n",
    "        },\n",
    "      \"page\": {\n",
    "            \"type\": \"text\"\n",
    "        }\n",
    "      }\n",
    "   }\n",
    "}"
   ]
  },
  {
   "cell_type": "code",
   "execution_count": 10,
   "metadata": {
    "tags": []
   },
   "outputs": [
    {
     "name": "stdout",
     "output_type": "stream",
     "text": [
      "Index idx_oci_genai_clinical_trials deleted successfully\n",
      "Index idx_oci_genai_clinical_trials created successfully\n"
     ]
    }
   ],
   "source": [
    "# Delete and create/re-create the index\n",
    "try:\n",
    "    response=client.indices.delete(index=index_name)\n",
    "    print(f\"Index {index_name} deleted successfully\")\n",
    "except Exception as e:\n",
    "    pass\n",
    "try:\n",
    "    response=client.indices.create(index=index_name, body=index_body)\n",
    "    print(f'Index {index_name} created successfully')\n",
    "except Exception as e:\n",
    "    print(f\"Error creating os settings: {e}\")"
   ]
  },
  {
   "cell_type": "code",
   "execution_count": 11,
   "metadata": {},
   "outputs": [
    {
     "data": {
      "text/plain": [
       "(39, [])"
      ]
     },
     "execution_count": 11,
     "metadata": {},
     "output_type": "execute_result"
    }
   ],
   "source": [
    "# load titles and description data into the index\n",
    "from opensearchpy import helpers\n",
    "\n",
    "df = pd.DataFrame({\n",
    "    \"page_content\": df_trials[\"page_content\"].tolist(),\n",
    "    \"metadata\": df_trials[\"metadata\"].tolist(),\n",
    "    \"page\": df_trials[\"page\"].tolist(),\n",
    "    \"pg_embeddings\": pg_embeddings,  # Convert embedding to list for DataFrame,\n",
    "    \"mt_embeddings\": mt_embeddings,  # Convert embedding to list for DataFrame,\n",
    "})\n",
    "\n",
    "docs = df.to_dict(orient=\"records\")\n",
    "\n",
    "helpers.bulk(client, docs, index=index_name, raise_on_error=True, refresh=True)"
   ]
  },
  {
   "cell_type": "markdown",
   "metadata": {},
   "source": [
    "### Query Open Search Index on document content based on the Titles \n",
    "##### 1. This query performs a vector search on page content and pulls up the relevant page content and the metadata\n",
    "##### 2. The file metadata is then used to pull the actual content from the clinical trials file\n",
    "##### 3. Optionally the code can be modified to query on metadata based embeddings as well"
   ]
  },
  {
   "cell_type": "code",
   "execution_count": 12,
   "metadata": {
    "tags": []
   },
   "outputs": [],
   "source": [
    "# Set the query embedding to \n",
    "user_query = \"A Randomized, Controlled Trial of Lifestyle Intervention and Drug 'N' in Non-Alcoholic Fatty Liver Disease (NAFLD)\"\n",
    "num_docs = 2\n",
    "query_embedding = oci_embeddings.embed_query(text=user_query)"
   ]
  },
  {
   "cell_type": "code",
   "execution_count": 13,
   "metadata": {
    "tags": []
   },
   "outputs": [],
   "source": [
    "# Retriever Query results based on vector searches on title embeddings\n",
    "query_body = {\n",
    "    \"query\": {\"knn\": {\"pg_embeddings\": {\"vector\": query_embedding, \"k\": f'{num_docs}'}}},\n",
    "    \"_source\": False,\n",
    "    \"fields\": [\"page_content\",\"metadata\"],\n",
    "}"
   ]
  },
  {
   "cell_type": "code",
   "execution_count": 14,
   "metadata": {
    "tags": []
   },
   "outputs": [
    {
     "name": "stdout",
     "output_type": "stream",
     "text": [
      "+---------------------------------------------------------------------+-------+\n",
      "| Metadata                                                            | Score |\n",
      "+---------------------------------------------------------------------+-------+\n",
      "| /home/datascience/conda/data/pdfs/NonAlcoholicFattyLiverDisease.pdf | 0.85  |\n",
      "| /home/datascience/conda/data/pdfs/Non-AlcoholicSteatohepatitis.pdf  | 0.79  |\n",
      "+---------------------------------------------------------------------+-------+\n"
     ]
    }
   ],
   "source": [
    "results = client.search(\n",
    "    body=query_body,\n",
    "    index=index_name\n",
    ")\n",
    "\n",
    "pg_list=[]\n",
    "mt_list=[]\n",
    "score_list=[]\n",
    "for i, result in enumerate(results[\"hits\"][\"hits\"]):\n",
    "    page_content = result['fields']['page_content'][0]\n",
    "    metadata = result['fields']['metadata'][0]\n",
    "    score = round(result['_score'],2)\n",
    "    pg_list.append(page_content)\n",
    "    mt_list.append(metadata)\n",
    "    score_list.append(score)\n",
    "    #print(f\"{i+1}. Title: {Title}, Score: {score}\")\n",
    "\n",
    "#pg_table = {'Page Content' : pg_list, 'Score' : score_list}\n",
    "#print(tabulate(pg_table, headers='keys', tablefmt='pretty', stralign = 'left', numalign = 'center'))\n",
    "mt_table = {'Metadata' : mt_list, 'Score' : score_list}\n",
    "print(tabulate(mt_table, headers='keys', tablefmt='pretty', stralign = 'left', numalign = 'center'))"
   ]
  },
  {
   "cell_type": "markdown",
   "metadata": {
    "tags": []
   },
   "source": [
    "### Load Clinical trial content and generate Compliance submission documents\n",
    "##### 1. Load full document from the actual clinical trials file.\n",
    "##### 2. Note that the same can also be loaded from the opensearch page_content as well\n",
    "##### 3. Use OCI Generative AI chat interface to summarize various sections with a targeted expert prompt\n",
    "##### 4. Format the response with langchain output parser\n",
    "##### 5. Create the compliance submission template"
   ]
  },
  {
   "cell_type": "code",
   "execution_count": 15,
   "metadata": {},
   "outputs": [],
   "source": [
    "#Based on the actual file path in the metadata, load the actual text from the PDF File for the first record\n",
    "from langchain.document_loaders import PyPDFLoader\n",
    "file_path=mt_list[0]\n",
    "file_name=file_path.rsplit('/',1)[1].rsplit('.',1)[0]\n",
    "loader = PyPDFLoader(file_path)\n",
    "clinical_trial_text = loader.load()\n",
    "#print(clinical_trial_text)"
   ]
  },
  {
   "cell_type": "code",
   "execution_count": 16,
   "metadata": {
    "tags": []
   },
   "outputs": [],
   "source": [
    "# Import langchain pydantic output parser\n",
    "from langchain.output_parsers import PydanticOutputParser\n",
    "from pydantic import BaseModel, Field, validator\n",
    "from typing import List"
   ]
  },
  {
   "cell_type": "code",
   "execution_count": 17,
   "metadata": {
    "tags": []
   },
   "outputs": [],
   "source": [
    "# set up Pydantic class    \n",
    "class TrialInfo(BaseModel):\n",
    "    title:str = Field(description=\"This is the name of the Title\")\n",
    "    introduction:str = Field(description=\"Summary of the introduction section of the report\")\n",
    "    methods:str = Field(description=\"Summary of the methods section of the report\")\n",
    "    patient_selection:str = Field(description=\"Summary of the patient selection section of the report\")\n",
    "    preparation:str = Field(description=\"Summary of the cell Preparation selection section of the report\")\n",
    "    trial_study_design:str = Field(description=\"Summary of the Trial Design selection section of the report\")\n",
    "    data_collection:str = Field(description=\"Summary of the data collection section of the report\")\n",
    "    dietary_and_physical:str = Field(description=\"Summary of the dietary and physical section of the report\")\n",
    "    endpoints:str = Field(description=\"Summary of the end point section of the report\")    \n",
    "    inclusion:str = Field(description=\"Summary of the inclusion criteria section of the report\")\n",
    "    exclusion:str = Field(description=\"Summary of the exclusion criteria section of the report\") \n",
    "    outcomes:str = Field(description=\"Summary of the outome measures section of the report\") \n",
    "    results:str = Field(description=\"Summary of the Trial Design selection section of the report\")\n",
    "    primary_outcome:str = Field(description=\"Summary of the Primary outcome section of the report\")\n",
    "    secondary_outcome:str = Field(description=\"Summary of the Secondary outcome selection section of the report\")\n",
    "    statistical_analysis:str = Field(description=\"Summary of any statistical analysis on report section of the report\")\n",
    "    safety:str = Field(description=\"Summary of the Safety selection section of the report\")\n",
    "    efficacy:str = Field(description=\"Summary of the Efficacy selection section of the report\")\n",
    "    characterization:str = Field(description=\"Summary of any characterization section of the report\")\n",
    "    discussion:str = Field(description=\"Summary of the discussion section of the report\")\n",
    "    conclusion:str = Field(description=\"Summary of the conclusion section of the report\")\n",
    "    registration:str = Field(description=\"Value in the Clinical Trial registration section in the report\")"
   ]
  },
  {
   "cell_type": "code",
   "execution_count": 18,
   "metadata": {
    "tags": []
   },
   "outputs": [],
   "source": [
    "# Set up a parser + inject instructions into the prompt template.\n",
    "pydantic_parser = PydanticOutputParser(pydantic_object=TrialInfo)\n",
    "format_instructions = pydantic_parser.get_format_instructions()"
   ]
  },
  {
   "cell_type": "code",
   "execution_count": 19,
   "metadata": {
    "tags": []
   },
   "outputs": [],
   "source": [
    "#Define the template prompt string\n",
    "template_string = \"\"\"You are a master clinical trial analyst who specializes in clinical trials for cancer and diabetes. \\\n",
    "Take the clinical trial report below and then summarize each of the sections in a single line within 150 characters\n",
    "clinical trial report: ```{clinical_trial_report}```\n",
    "{format_instructions}\n",
    "\"\"\""
   ]
  },
  {
   "cell_type": "code",
   "execution_count": 20,
   "metadata": {
    "tags": []
   },
   "outputs": [],
   "source": [
    "from langchain.prompts import ChatPromptTemplate\n",
    "prompt = ChatPromptTemplate.from_template(template=template_string)\n",
    "messages = prompt.format_messages(clinical_trial_report=clinical_trial_text, \n",
    "                                format_instructions=format_instructions)"
   ]
  },
  {
   "cell_type": "code",
   "execution_count": 21,
   "metadata": {
    "tags": []
   },
   "outputs": [],
   "source": [
    "from langchain_community.llms import OCIGenAI\n",
    "# use OCI GenAI chat interface\n",
    "llm = OCIGenAI(\n",
    "    model_id=model_id,\n",
    "    service_endpoint=service_endpoint,\n",
    "    compartment_id=compartment_id,\n",
    "    model_kwargs={\"max_tokens\":1000}\n",
    ")"
   ]
  },
  {
   "cell_type": "code",
   "execution_count": 22,
   "metadata": {
    "tags": []
   },
   "outputs": [],
   "source": [
    "response = llm.invoke(messages,temperature=0.0)"
   ]
  },
  {
   "cell_type": "code",
   "execution_count": 23,
   "metadata": {
    "tags": []
   },
   "outputs": [],
   "source": [
    "#check response from llm\n",
    "import json\n",
    "string = '{'+str(response).rsplit('{',1)[1].rsplit('}',1)[0]+'}'\n",
    "#string=str(response).replace('```','').replace('json\\n','').rsplit('}',1)[0]+'}'\n",
    "data=json.loads(string)"
   ]
  },
  {
   "cell_type": "code",
   "execution_count": 24,
   "metadata": {
    "tags": []
   },
   "outputs": [],
   "source": [
    "from langchain.prompts import ChatPromptTemplate\n",
    "prompt = ChatPromptTemplate.from_template(template=template_string)\n",
    "messages = prompt.format_messages(clinical_trial_report=clinical_trial_text, \n",
    "                                format_instructions=format_instructions)"
   ]
  },
  {
   "cell_type": "code",
   "execution_count": 25,
   "metadata": {
    "tags": []
   },
   "outputs": [],
   "source": [
    "# PDF template generation - https://www.sejda.com/pdf-forms#results-KFINKPTF-202407230002\n",
    "import fillpdf\n",
    "from fillpdf import fillpdfs\n",
    "form_template='/home/datascience/conda/data/templates/template_all.pdf'\n",
    "form_fields=list(fillpdfs.get_form_fields(form_template, \n",
    "                                     sort=True, page_number=None).keys())"
   ]
  },
  {
   "cell_type": "code",
   "execution_count": 26,
   "metadata": {
    "tags": []
   },
   "outputs": [],
   "source": [
    "#https://www.google.com/url?sa=t&rct=j&q=&esrc=s&source=web&cd=&cad=rja&uact=8&ved=2ahUKEwjW6Yim7LqHAxV1kokEHbxZBiUQwqsBegQIExAG&url=https%3A%2F%2Fwww.youtube.com%2Fwatch%3Fv%3DTcBX2kb6g3o&usg=AOvVaw02NenmjSMjrEyunvRtS6JQ&opi=89978449\n",
    "data_dict = {\n",
    "    form_fields[0]: data['characterization'],\n",
    "    form_fields[1]: data['conclusion'],\n",
    "    form_fields[2]: data['data_collection'],\n",
    "    form_fields[3]: data['dietary_and_physical'],\n",
    "    form_fields[4]: data['discussion'],\n",
    "    form_fields[5]: data['efficacy'],\n",
    "    form_fields[6]: data['endpoints'],\n",
    "    form_fields[7]: data['exclusion'],\n",
    "    form_fields[8]: data['inclusion'],\n",
    "    form_fields[9]: data['introduction'],\n",
    "    form_fields[10]: data['methods'],\n",
    "    form_fields[11]: data['outcomes'],\n",
    "    form_fields[12]: data['patient_selection'],\n",
    "    form_fields[13]: data['primary_outcome'],\n",
    "    form_fields[14]: data['preparation'],\n",
    "    form_fields[15]: data['registration'],\n",
    "    form_fields[16]: data['results'],\n",
    "    form_fields[17]: data['safety'],\n",
    "    form_fields[18]: data['secondary_outcome'],\n",
    "    form_fields[19]: data['statistical_analysis'],\n",
    "    form_fields[20]: data['title'],\n",
    "    form_fields[21]: data['trial_study_design'],\n",
    "}"
   ]
  },
  {
   "cell_type": "code",
   "execution_count": 27,
   "metadata": {
    "tags": []
   },
   "outputs": [],
   "source": [
    "output_path='/home/datascience/conda/data/outputs/trial_'\n",
    "fillpdfs.write_fillable_pdf(form_template,\n",
    "                            f'{output_path}{file_name}.pdf',\n",
    "                            data_dict,flatten=True)\n"
   ]
  },
  {
   "cell_type": "code",
   "execution_count": null,
   "metadata": {},
   "outputs": [],
   "source": []
  }
 ],
 "metadata": {
  "kernelspec": {
   "display_name": "Python [conda env:pytorch21_p39_gpu_v1]",
   "language": "python",
   "name": "conda-env-pytorch21_p39_gpu_v1-py"
  },
  "language_info": {
   "codemirror_mode": {
    "name": "ipython",
    "version": 3
   },
   "file_extension": ".py",
   "mimetype": "text/x-python",
   "name": "python",
   "nbconvert_exporter": "python",
   "pygments_lexer": "ipython3",
   "version": "3.9.16"
  },
  "vscode": {
   "interpreter": {
    "hash": "06b89612a5e9c675d881f7c391886fce9eabd2126328a7f9c136f634c360fd8c"
   }
  }
 },
 "nbformat": 4,
 "nbformat_minor": 4
}
